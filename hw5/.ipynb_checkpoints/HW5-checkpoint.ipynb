{
 "cells": [
  {
   "cell_type": "code",
   "execution_count": 1,
   "metadata": {},
   "outputs": [],
   "source": [
    "from sklearn.manifold import TSNE\n",
    "from pandas import Series, DataFrame\n",
    "import pandas as pd\n",
    "from numpy.random import randn\n",
    "import numpy as np"
   ]
  },
  {
   "cell_type": "code",
   "execution_count": 2,
   "metadata": {},
   "outputs": [
    {
     "data": {
      "text/html": [
       "<div>\n",
       "<style scoped>\n",
       "    .dataframe tbody tr th:only-of-type {\n",
       "        vertical-align: middle;\n",
       "    }\n",
       "\n",
       "    .dataframe tbody tr th {\n",
       "        vertical-align: top;\n",
       "    }\n",
       "\n",
       "    .dataframe thead th {\n",
       "        text-align: right;\n",
       "    }\n",
       "</style>\n",
       "<table border=\"1\" class=\"dataframe\">\n",
       "  <thead>\n",
       "    <tr style=\"text-align: right;\">\n",
       "      <th></th>\n",
       "      <th>Name</th>\n",
       "      <th>Alignment</th>\n",
       "      <th>Intelligence</th>\n",
       "      <th>Strength</th>\n",
       "      <th>Speed</th>\n",
       "      <th>Durability</th>\n",
       "      <th>Power</th>\n",
       "      <th>Combat</th>\n",
       "      <th>Total</th>\n",
       "    </tr>\n",
       "  </thead>\n",
       "  <tbody>\n",
       "    <tr>\n",
       "      <th>0</th>\n",
       "      <td>3-D Man</td>\n",
       "      <td>good</td>\n",
       "      <td>50</td>\n",
       "      <td>31</td>\n",
       "      <td>43</td>\n",
       "      <td>32</td>\n",
       "      <td>25</td>\n",
       "      <td>52</td>\n",
       "      <td>233</td>\n",
       "    </tr>\n",
       "    <tr>\n",
       "      <th>1</th>\n",
       "      <td>A-Bomb</td>\n",
       "      <td>good</td>\n",
       "      <td>38</td>\n",
       "      <td>100</td>\n",
       "      <td>17</td>\n",
       "      <td>80</td>\n",
       "      <td>17</td>\n",
       "      <td>64</td>\n",
       "      <td>316</td>\n",
       "    </tr>\n",
       "    <tr>\n",
       "      <th>2</th>\n",
       "      <td>Abe Sapien</td>\n",
       "      <td>good</td>\n",
       "      <td>88</td>\n",
       "      <td>14</td>\n",
       "      <td>35</td>\n",
       "      <td>42</td>\n",
       "      <td>35</td>\n",
       "      <td>85</td>\n",
       "      <td>299</td>\n",
       "    </tr>\n",
       "    <tr>\n",
       "      <th>3</th>\n",
       "      <td>Abin Sur</td>\n",
       "      <td>good</td>\n",
       "      <td>50</td>\n",
       "      <td>90</td>\n",
       "      <td>53</td>\n",
       "      <td>64</td>\n",
       "      <td>84</td>\n",
       "      <td>65</td>\n",
       "      <td>406</td>\n",
       "    </tr>\n",
       "    <tr>\n",
       "      <th>4</th>\n",
       "      <td>Abomination</td>\n",
       "      <td>bad</td>\n",
       "      <td>63</td>\n",
       "      <td>80</td>\n",
       "      <td>53</td>\n",
       "      <td>90</td>\n",
       "      <td>55</td>\n",
       "      <td>95</td>\n",
       "      <td>436</td>\n",
       "    </tr>\n",
       "  </tbody>\n",
       "</table>\n",
       "</div>"
      ],
      "text/plain": [
       "          Name Alignment  Intelligence  Strength  Speed  Durability  Power  \\\n",
       "0      3-D Man      good            50        31     43          32     25   \n",
       "1       A-Bomb      good            38       100     17          80     17   \n",
       "2   Abe Sapien      good            88        14     35          42     35   \n",
       "3     Abin Sur      good            50        90     53          64     84   \n",
       "4  Abomination       bad            63        80     53          90     55   \n",
       "\n",
       "   Combat  Total  \n",
       "0      52    233  \n",
       "1      64    316  \n",
       "2      85    299  \n",
       "3      65    406  \n",
       "4      95    436  "
      ]
     },
     "execution_count": 2,
     "metadata": {},
     "output_type": "execute_result"
    }
   ],
   "source": [
    "df = pd.read_csv('datasets_38396_60978_charcters_stats.csv')\n",
    "df.head()\n",
    "#df[2:3]"
   ]
  },
  {
   "cell_type": "code",
   "execution_count": 3,
   "metadata": {},
   "outputs": [
    {
     "name": "stdout",
     "output_type": "stream",
     "text": [
      "[t-SNE] Computing 91 nearest neighbors...\n",
      "[t-SNE] Indexed 611 samples in 0.002s...\n",
      "[t-SNE] Computed neighbors for 611 samples in 0.026s...\n",
      "[t-SNE] Computed conditional probabilities for sample 611 / 611\n",
      "[t-SNE] Mean sigma: 0.000000\n",
      "[t-SNE] KL divergence after 250 iterations with early exaggeration: 54.413174\n",
      "[t-SNE] KL divergence after 1000 iterations: 0.551655\n"
     ]
    }
   ],
   "source": [
    "df1 = df.iloc[:, 2:10]\n",
    "tsne_em = TSNE(n_components=2, perplexity=30.0, n_iter=1000, verbose=1).fit_transform(df1)"
   ]
  },
  {
   "cell_type": "code",
   "execution_count": 7,
   "metadata": {},
   "outputs": [],
   "source": [
    "from bioinfokit.visuz import cluster\n",
    "cluster.tsneplot(score=tsne_em)"
   ]
  },
  {
   "cell_type": "code",
   "execution_count": 6,
   "metadata": {},
   "outputs": [
    {
     "ename": "NameError",
     "evalue": "name 'tsne_score' is not defined",
     "output_type": "error",
     "traceback": [
      "\u001b[0;31m---------------------------------------------------------------------------\u001b[0m",
      "\u001b[0;31mNameError\u001b[0m                                 Traceback (most recent call last)",
      "\u001b[0;32m<ipython-input-6-0106075bec33>\u001b[0m in \u001b[0;36m<module>\u001b[0;34m\u001b[0m\n\u001b[1;32m      1\u001b[0m \u001b[0mcolor_class\u001b[0m \u001b[0;34m=\u001b[0m \u001b[0mdf\u001b[0m\u001b[0;34m[\u001b[0m\u001b[0;34m'Name'\u001b[0m\u001b[0;34m]\u001b[0m\u001b[0;34m.\u001b[0m\u001b[0mto_numpy\u001b[0m\u001b[0;34m(\u001b[0m\u001b[0;34m)\u001b[0m\u001b[0;34m\u001b[0m\u001b[0;34m\u001b[0m\u001b[0m\n\u001b[0;32m----> 2\u001b[0;31m \u001b[0mcluster\u001b[0m\u001b[0;34m.\u001b[0m\u001b[0mtsneplot\u001b[0m\u001b[0;34m(\u001b[0m\u001b[0mscore\u001b[0m\u001b[0;34m=\u001b[0m\u001b[0mtsne_score\u001b[0m\u001b[0;34m,\u001b[0m \u001b[0mcolorlist\u001b[0m\u001b[0;34m=\u001b[0m\u001b[0mcolor_class\u001b[0m\u001b[0;34m,\u001b[0m \u001b[0mlegendpos\u001b[0m\u001b[0;34m=\u001b[0m\u001b[0;34m'upper right'\u001b[0m\u001b[0;34m,\u001b[0m \u001b[0mlegendanchor\u001b[0m\u001b[0;34m=\u001b[0m\u001b[0;34m(\u001b[0m\u001b[0;36m1.15\u001b[0m\u001b[0;34m,\u001b[0m \u001b[0;36m1\u001b[0m\u001b[0;34m)\u001b[0m \u001b[0;34m)\u001b[0m\u001b[0;34m\u001b[0m\u001b[0;34m\u001b[0m\u001b[0m\n\u001b[0m",
      "\u001b[0;31mNameError\u001b[0m: name 'tsne_score' is not defined"
     ]
    }
   ],
   "source": []
  },
  {
   "cell_type": "code",
   "execution_count": null,
   "metadata": {},
   "outputs": [],
   "source": []
  }
 ],
 "metadata": {
  "kernelspec": {
   "display_name": "Python 3",
   "language": "python",
   "name": "python3"
  },
  "language_info": {
   "codemirror_mode": {
    "name": "ipython",
    "version": 3
   },
   "file_extension": ".py",
   "mimetype": "text/x-python",
   "name": "python",
   "nbconvert_exporter": "python",
   "pygments_lexer": "ipython3",
   "version": "3.8.5"
  }
 },
 "nbformat": 4,
 "nbformat_minor": 4
}
